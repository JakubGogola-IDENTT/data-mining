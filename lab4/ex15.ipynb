{
 "cells": [
  {
   "cell_type": "code",
   "execution_count": 13,
   "metadata": {},
   "outputs": [],
   "source": [
    "%config IPCompleter.greedy=True"
   ]
  },
  {
   "cell_type": "code",
   "execution_count": 14,
   "metadata": {},
   "outputs": [],
   "source": [
    "import numpy as np\n",
    "from xgboost import XGBClassifier\n",
    "import pickle\n",
    "import nltk\n",
    "from nltk.stem.snowball import SnowballStemmer\n",
    "\n",
    "from sklearn.datasets import fetch_20newsgroups\n",
    "from sklearn.pipeline import Pipeline\n",
    "from sklearn.feature_extraction.text import CountVectorizer\n",
    "from sklearn.feature_extraction.text import TfidfTransformer\n",
    "from sklearn.model_selection import GridSearchCV"
   ]
  },
  {
   "cell_type": "code",
   "execution_count": 15,
   "metadata": {},
   "outputs": [],
   "source": [
    "def load_model(file):\n",
    "  with open(file, 'rb') as f:\n",
    "    while True:\n",
    "      try:\n",
    "        model = pickle.load(f)\n",
    "        print('Model was loaded successfully!')\n",
    "      except EOFError:\n",
    "        break\n",
    "      \n",
    "  return model"
   ]
  },
  {
   "cell_type": "code",
   "execution_count": 16,
   "metadata": {},
   "outputs": [],
   "source": [
    "def run_tests(model, dataset):\n",
    "  predicted = model.predict(dataset.data)\n",
    "  return np.mean(predicted == dataset.target)"
   ]
  },
  {
   "cell_type": "code",
   "execution_count": 17,
   "metadata": {},
   "outputs": [],
   "source": [
    "# download required datasets\n",
    "\n",
    "train_set = fetch_20newsgroups(subset='train', shuffle=True)\n",
    "test_set = fetch_20newsgroups(subset='test', shuffle=True)"
   ]
  },
  {
   "cell_type": "code",
   "execution_count": 18,
   "metadata": {},
   "outputs": [
    {
     "name": "stderr",
     "output_type": "stream",
     "text": [
      "[nltk_data] Downloading package snowball_data to\n",
      "[nltk_data]     /home/jakub/nltk_data...\n",
      "[nltk_data]   Package snowball_data is already up-to-date!\n",
      "[nltk_data] Downloading package stopwords to /home/jakub/nltk_data...\n",
      "[nltk_data]   Package stopwords is already up-to-date!\n"
     ]
    },
    {
     "data": {
      "text/plain": [
       "True"
      ]
     },
     "execution_count": 18,
     "metadata": {},
     "output_type": "execute_result"
    }
   ],
   "source": [
    "# download data which will be used for stemming\n",
    "\n",
    "nltk.download('snowball_data')\n",
    "nltk.download('stopwords')"
   ]
  },
  {
   "cell_type": "code",
   "execution_count": 19,
   "metadata": {},
   "outputs": [],
   "source": [
    "# create stemming based CountVectorized\n",
    "\n",
    "class StemmedCountVectorizer(CountVectorizer):\n",
    "  def build(self):\n",
    "    analyzer = super(StemmedCountVectorizer, self).build_analyzer()\n",
    "    return lambda text: ([stemmer.stem(word) for word in anlayzer(text)])"
   ]
  },
  {
   "cell_type": "code",
   "execution_count": 20,
   "metadata": {},
   "outputs": [],
   "source": [
    "stemmer = SnowballStemmer('english', ignore_stopwords=True)\n",
    "stemmed_count_vector = StemmedCountVectorizer(stop_words='english')"
   ]
  },
  {
   "cell_type": "markdown",
   "metadata": {},
   "source": [
    "# Random forest"
   ]
  },
  {
   "cell_type": "code",
   "execution_count": 21,
   "metadata": {},
   "outputs": [],
   "source": [
    "from sklearn.ensemble import RandomForestClassifier"
   ]
  },
  {
   "cell_type": "code",
   "execution_count": 22,
   "metadata": {},
   "outputs": [
    {
     "data": {
      "text/plain": [
       "Pipeline(steps=[('vect',\n",
       "                 StemmedCountVectorizer(ngram_range=(1, 2),\n",
       "                                        stop_words='english')),\n",
       "                ('tfidf', TfidfTransformer()),\n",
       "                ('dtc',\n",
       "                 RandomForestClassifier(class_weight='balanced',\n",
       "                                        max_depth=100))])"
      ]
     },
     "execution_count": 22,
     "metadata": {},
     "output_type": "execute_result"
    }
   ],
   "source": [
    "pipe_rt = Pipeline([\n",
    "  ('vect', stemmed_count_vector),\n",
    "  ('tfidf', TfidfTransformer()),\n",
    "  ('dtc', RandomForestClassifier())\n",
    "])\n",
    "\n",
    "pipe_rt.set_params(\n",
    "    vect__ngram_range=(1,2),\n",
    "    tfidf__use_idf=True,\n",
    "    dtc__n_estimators=100,\n",
    "    dtc__max_depth=100, \n",
    "    dtc__class_weight='balanced'\n",
    ")"
   ]
  },
  {
   "cell_type": "code",
   "execution_count": 25,
   "metadata": {},
   "outputs": [
    {
     "data": {
      "text/plain": [
       "Pipeline(steps=[('vect',\n",
       "                 StemmedCountVectorizer(ngram_range=(1, 2),\n",
       "                                        stop_words='english')),\n",
       "                ('tfidf', TfidfTransformer()),\n",
       "                ('dtc',\n",
       "                 RandomForestClassifier(class_weight='balanced',\n",
       "                                        max_depth=100))])"
      ]
     },
     "execution_count": 25,
     "metadata": {},
     "output_type": "execute_result"
    }
   ],
   "source": [
    "pipe_rt.fit(train_set.data, train_set.target)"
   ]
  },
  {
   "cell_type": "code",
   "execution_count": 26,
   "metadata": {},
   "outputs": [
    {
     "name": "stdout",
     "output_type": "stream",
     "text": [
      "Accuracy after stemming: 0.7831917153478491\n"
     ]
    }
   ],
   "source": [
    "predicted_rt = pipe_rt.predict(test_set.data)\n",
    "\n",
    "print('Accuracy after stemming: %s' % np.mean(predicted_rt == test_set.target))"
   ]
  },
  {
   "cell_type": "code",
   "execution_count": null,
   "metadata": {},
   "outputs": [],
   "source": []
  }
 ],
 "metadata": {
  "kernelspec": {
   "display_name": "Python 3",
   "language": "python",
   "name": "python3"
  },
  "language_info": {
   "codemirror_mode": {
    "name": "ipython",
    "version": 3
   },
   "file_extension": ".py",
   "mimetype": "text/x-python",
   "name": "python",
   "nbconvert_exporter": "python",
   "pygments_lexer": "ipython3",
   "version": "3.8.6"
  }
 },
 "nbformat": 4,
 "nbformat_minor": 4
}
